{
 "cells": [
  {
   "cell_type": "code",
   "execution_count": 1,
   "id": "72fbb654-5806-4fe8-bace-748bdc050c6b",
   "metadata": {},
   "outputs": [],
   "source": [
    "from fastai.vision.all import *\n",
    "from fastai.vision.widgets import *"
   ]
  },
  {
   "cell_type": "markdown",
   "id": "879088ab-060d-4255-a524-847ecd5049e3",
   "metadata": {},
   "source": [
    "# Bear Classifier\n",
    "From lesson 2. Classify as teddy, grizzly or black bear. Created by Jeremy Howard [here](https://www.youtube.com/watch?v=5L3Ao5KuCC4&ab_channel=JeremyHoward). This notebook make no changes to the original code. "
   ]
  },
  {
   "cell_type": "code",
   "execution_count": 9,
   "id": "65c0b06b-645d-485b-a942-a813e585cd7d",
   "metadata": {},
   "outputs": [],
   "source": [
    "path = Path()\n",
    "learn_inf = load_learner(path/\"export.pkl\", cpu=True)\n",
    "btn_upload = widgets.FileUpload()\n",
    "out_pl = widgets.Output()\n",
    "lbl_pred = widgets.Label()"
   ]
  },
  {
   "cell_type": "code",
   "execution_count": 10,
   "id": "8ae08f91-0e0a-4e9d-97ef-7d24b20d6af7",
   "metadata": {},
   "outputs": [],
   "source": [
    "def on_click(change):\n",
    "    lbl_pred.value = ''\n",
    "    img = PILImage.create(btn_upload.data[-1])\n",
    "    out_pl.clear_output()\n",
    "    with out_pl: display(img.to_thumb(128, 128))\n",
    "    pred, pred_idx, probs = learn_inf.predict(img)\n",
    "    lbl_pred.value = f\"Prediction: {pred}; Probability: {probs[pred_idx]:.04f}\""
   ]
  },
  {
   "cell_type": "code",
   "execution_count": 11,
   "id": "d7d4c715-5f65-4de0-b2b3-ab9f33b0d02b",
   "metadata": {},
   "outputs": [],
   "source": [
    "btn_upload.observe(on_click, names=[\"data\"])"
   ]
  },
  {
   "cell_type": "code",
   "execution_count": 12,
   "id": "a498375c-d59e-466c-a68a-27e13f6c0f09",
   "metadata": {},
   "outputs": [
    {
     "data": {
      "application/vnd.jupyter.widget-view+json": {
       "model_id": "b8adbc2998474af4adbd5e4a6b7d4933",
       "version_major": 2,
       "version_minor": 0
      },
      "text/plain": [
       "VBox(children=(Label(value='Select your bear!'), FileUpload(value={}, description='Upload'), Output(), Label(v…"
      ]
     },
     "metadata": {},
     "output_type": "display_data"
    }
   ],
   "source": [
    "display(VBox([widgets.Label(\"Select your bear!\"), btn_upload, out_pl, lbl_pred]))"
   ]
  },
  {
   "cell_type": "code",
   "execution_count": null,
   "id": "a3d40796-1982-4b5a-8f13-b503dfaf55ff",
   "metadata": {},
   "outputs": [],
   "source": []
  }
 ],
 "metadata": {
  "kernelspec": {
   "display_name": "Python 3",
   "language": "python",
   "name": "python3"
  },
  "language_info": {
   "codemirror_mode": {
    "name": "ipython",
    "version": 3
   },
   "file_extension": ".py",
   "mimetype": "text/x-python",
   "name": "python",
   "nbconvert_exporter": "python",
   "pygments_lexer": "ipython3",
   "version": "3.8.2"
  }
 },
 "nbformat": 4,
 "nbformat_minor": 5
}
